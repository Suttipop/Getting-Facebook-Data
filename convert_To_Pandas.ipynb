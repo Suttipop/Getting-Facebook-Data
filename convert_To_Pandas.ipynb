{
 "cells": [
  {
   "cell_type": "markdown",
   "metadata": {},
   "source": [
    "# Convert To Pandas.\n",
    "\n",
    "This content is a part of Facebook Getting Data's project (First's file is \"get_facebook_data.ipynb\"). This file cover converter(JSON to Pandas), Reader files(JSON's files) and writer files(Excel's files).\n",
    "\n",
    "Table of Contents.\n",
    "* [Import Packages.](#Import-Packages.)\n",
    "* [Create JSON's File Reader Function.](#Create-JSON's-File-Reader-Function.)\n",
    "* [Create Excel's File Writer Function.](#Create-Excel's-File-Writer-Function.)\n",
    "* [Create Convert JSON to Pandas (Comment File) Function.](#Create-Convert-JSON-to-Pandas-(Comment-File%29-Function.)\n",
    "* [Create Convert JSON to Pandas (Reaction File) Function.](#Create-Convert-JSON-to-Pandas-(Reaction-File%29-Function.)\n",
    "* [Create Convert JSON to Pandas (Post File) Function.](#Create-Convert-JSON-to-Pandas-(Post-File%29-Function.)\n"
   ]
  },
  {
   "cell_type": "markdown",
   "metadata": {},
   "source": [
    "## Import Packages.\n",
    "Import following packages to get the propose.\n",
    "    1. Pandas - Pandas is a Helpful datatype. It use for data like table.\n",
    "    2. OS - In this file, We use to list files.\n",
    "    3. JSON - The data of facebook is JSON format. We need this to work with them."
   ]
  },
  {
   "cell_type": "code",
   "execution_count": 1,
   "metadata": {
    "collapsed": true
   },
   "outputs": [],
   "source": [
    "import pandas as pd\n",
    "import os \n",
    "import json"
   ]
  },
  {
   "cell_type": "markdown",
   "metadata": {},
   "source": [
    "## Create JSON's File Reader Function.\n",
    "\n",
    "In \"get_facebook_data.ipynb\" file, We write data into JSON's files. This function use to read them.\n",
    "\n",
    "Input:\n",
    "    1. filename - Name of file with path.\n",
    "\n",
    "Output:\n",
    "\n",
    "    This function will return the data of file in Dict's datatype."
   ]
  },
  {
   "cell_type": "code",
   "execution_count": 6,
   "metadata": {
    "collapsed": true
   },
   "outputs": [],
   "source": [
    "#Function read_jsonfile() , get filename and return data of files (Dict datatype).\n",
    "def read_jsonfile(filename):\n",
    "    # Read data in file to variable.\n",
    "    with open(filename, encoding='utf8') as open_file:\n",
    "        data_json = json.load(open_file)\n",
    "        open_file.close()\n",
    "    \n",
    "    #Return variable ( Dict datatype ).\n",
    "    return data_json"
   ]
  },
  {
   "cell_type": "markdown",
   "metadata": {},
   "source": [
    "## Create Excel's File Writer Function.\n",
    "\n",
    "This function use to write Pandas's dataframe into EXCEL's format file.\n",
    "\n",
    "Input:\n",
    "    1. Data_df - Data in Pandas Dataframe's datatype.\n",
    "    2. Name - Filename without file extension, It will be file's name and sheet's name."
   ]
  },
  {
   "cell_type": "code",
   "execution_count": 3,
   "metadata": {
    "collapsed": true
   },
   "outputs": [],
   "source": [
    "#Function write_excel(), get data (Pandas's dataframe) and name of filename.\n",
    "def write_excel(data_df, name):\n",
    "    #Filename = name + file extension\n",
    "    filename = name + '.xlsx'\n",
    "    \n",
    "    #Write file.\n",
    "    writer = pd.ExcelWriter(filename, engine='xlsxwriter')\n",
    "    df.to_excel(writer, sheet_name=name)\n",
    "    \n",
    "    #Save file.\n",
    "    writer.save()"
   ]
  },
  {
   "cell_type": "markdown",
   "metadata": {},
   "source": [
    "## Create Convert JSON to Pandas (Comment File) Function.\n",
    "\n",
    "This function use to convert JSON to Pandas on Comment's data."
   ]
  },
  {
   "cell_type": "code",
   "execution_count": 4,
   "metadata": {
    "collapsed": true
   },
   "outputs": [],
   "source": [
    "#Function convert_comment_pd(), get comment's data (Dict datatype) and return Pandas's dataframe of the data.\n",
    "def convert_comment_pd(comment_json):\n",
    "    #Read json into Pandas's dataframe. Member are member of data's tag of JSON.\n",
    "    df = pd.io.json.json_normalize(comment_json, 'data', ['post_id','as_of_date'])\n",
    "    \n",
    "    #Separate id's, name's tags in from's column to be user_id's and user_name's columns.\n",
    "    df_from = df['from'].apply(pd.Series)\n",
    "    df_from.columns = ['user_id','user_name']\n",
    "    df = pd.concat([df, df_from], axis=1)\n",
    "    df = df.drop('from', axis=1)\n",
    "    \n",
    "    #Order columns.\n",
    "    df = df.reindex_axis(['as_of_date','post_id','id','created_time','user_id','user_name', 'message', 'like_count'], axis=1)\n",
    "    \n",
    "    #Rename columns.\n",
    "    df.columns = ['as_of_date','post_id','comment_id','created_time','user_id','user_name','message','like_count']\n",
    "    \n",
    "    #Return pandas's dataframe.\n",
    "    return df"
   ]
  },
  {
   "cell_type": "markdown",
   "metadata": {},
   "source": [
    "## Create Convert JSON to Pandas (Reaction File) Function.\n",
    "\n",
    "This function use to convert JSON to Pandas on Reaction's data."
   ]
  },
  {
   "cell_type": "code",
   "execution_count": 7,
   "metadata": {
    "collapsed": true
   },
   "outputs": [],
   "source": [
    "#Function convert_reaction_pd(), get reaction's data (Dict datatype) and return Pandas's dataframe of the data.\n",
    "def convert_reaction_pd(reaction_json):\n",
    "    #Read json into Pandas's dataframe. Member are member of data's tag of JSON.\n",
    "    df = pd.io.json.json_normalize(reaction_json, 'data', ['post_id','as_of_date'])\n",
    "    \n",
    "    #Order columns.\n",
    "    df = df.reindex_axis(['as_of_date','post_id','id','name', 'type'], axis=1)\n",
    "\n",
    "    #Rename columns.\n",
    "    df.columns = ['as_of_date','post_id','user_id','user_name','type']\n",
    "    \n",
    "    #Return pandas's dataframe.\n",
    "    return df"
   ]
  },
  {
   "cell_type": "markdown",
   "metadata": {},
   "source": [
    "## Create Convert JSON to Pandas (Post File) Function.\n",
    "\n",
    "This function use to convert JSON to Pandas on Post's data."
   ]
  },
  {
   "cell_type": "code",
   "execution_count": 1,
   "metadata": {
    "collapsed": true
   },
   "outputs": [],
   "source": [
    "#Function convert_post_pd(), get post's data (Dict datatype) and return Pandas's dataframe of the data.\n",
    "def convert_post_pd(post_json):\n",
    "    #Read json into Pandas's dataframe. Member are member of data's tag of JSON.\n",
    "    df = pd.io.json.json_normalize(post_json, 'data', ['page_id','as_of_date'])\n",
    "\n",
    "    #Get like_count's tags in likes's column (Under summary's tag) to be like_count's columns.\n",
    "    df_like = df['likes'].apply(pd.Series)\n",
    "    df_like.columns = ['data','summary']\n",
    "    df_summary = df_like['summary'].apply(pd.Series)\n",
    "    df_summary.columns = ['like_count']\n",
    "    df = pd.concat([df, df_summary], axis=1)\n",
    "    df = df.drop('likes', axis=1)\n",
    "\n",
    "    #Get count's tag in likes's column to be count's columns.\n",
    "    df_shares = df['shares'].apply(pd.Series, index=['count'])\n",
    "    df = pd.concat([df, df_shares], axis=1)\n",
    "    df = df.drop('shares', axis=1)\n",
    "\n",
    "    #Default NaN to be  Zero for like_count's and count's columns.\n",
    "    df['like_count'] = df['like_count'].fillna(0)\n",
    "    df['count'] = df['count'].fillna(0)\n",
    "\n",
    "    #Order columns.\n",
    "    df = df.reindex_axis(['as_of_date','created_time','page_id','id', 'name', 'message', 'type', 'like_count', 'count'], axis=1)\n",
    "\n",
    "    #Rename columns.\n",
    "    df.columns = ['as_of_date','created_time','page_id','post_id', 'name', 'message', 'type', 'like_count', 'shares_count']\n",
    "    \n",
    "    #Return pandas's dataframe.\n",
    "    return df"
   ]
  },
  {
   "cell_type": "code",
   "execution_count": null,
   "metadata": {
    "collapsed": true
   },
   "outputs": [],
   "source": []
  }
 ],
 "metadata": {
  "kernelspec": {
   "display_name": "Python 3",
   "language": "python",
   "name": "python3"
  },
  "language_info": {
   "codemirror_mode": {
    "name": "ipython",
    "version": 3
   },
   "file_extension": ".py",
   "mimetype": "text/x-python",
   "name": "python",
   "nbconvert_exporter": "python",
   "pygments_lexer": "ipython3",
   "version": "3.6.1"
  }
 },
 "nbformat": 4,
 "nbformat_minor": 2
}
