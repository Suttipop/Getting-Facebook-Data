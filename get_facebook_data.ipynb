{
 "cells": [
  {
   "cell_type": "markdown",
   "metadata": {
    "collapsed": true
   },
   "source": [
    "# Facebook Project\n",
    "\n",
    "The propose is getting information of pages and write it into files.  Page, posts, comment and reaction of user are inculded. \n",
    "\n",
    "Table of Contents.\n",
    "* [Import Packages.](#Import-Packages.)\n",
    "* [Setting Token and Authentication.](#Setting-Token-and-Authentication.)\n",
    "* [Getting Current Date and Time.](#Getting-Current-Date-and-Time.)\n",
    "* [Create Getting Reaction Information's Function.](#Create-Getting-Reaction-Information's-Function.)\n",
    "* [Create Getting Tag's Information in Comment Function.](#Create-Getting-Tag's-Information-in-Comment-Function.)\n",
    "* [Create Getting Comment Information's Function.](#Create-Getting-Comment-Information's-Function.)\n",
    "* [Create Getting Post Information's Function.](#Create-Getting-Post-Information's-Function.)\n",
    "* [Create Getting Page Information's Function.](#Create-Getting-Page-Information's-Function.)"
   ]
  },
  {
   "cell_type": "markdown",
   "metadata": {},
   "source": [
    "## Import Packages.\n",
    "\n",
    "Import following packages to get the propose.\n",
    "    1. facepy - The package that help to get information of facebook.\n",
    "    2. JSON - The data of facebook is JSON format. We need this to work with them.\n",
    "    3. datatime - Just get current date and time to manage data later."
   ]
  },
  {
   "cell_type": "code",
   "execution_count": 1,
   "metadata": {
    "collapsed": true
   },
   "outputs": [],
   "source": [
    "# Import packages.\n",
    "import json \n",
    "import facepy\n",
    "import datetime"
   ]
  },
  {
   "cell_type": "markdown",
   "metadata": {},
   "source": [
    "## Setting Token and Authentication.\n",
    "\n",
    "Set the token into \"token\" variable and call \"facepy.GraphAPI()\" function to authen the token.\n",
    "\n",
    "If you haven't has token yet, you need to go to [facebook for developer link](https://developers.facebook.com) and sign up first. After you signed up, go to [Explorer](https://developers.facebook.com/tools/explorer/) to get your token."
   ]
  },
  {
   "cell_type": "code",
   "execution_count": 2,
   "metadata": {
    "collapsed": true
   },
   "outputs": [],
   "source": [
    "#Set token.\n",
    "token = 'Put Your Token'\n",
    "\n",
    "#To Authen your token to facebook. Version 2.10 is the last updated version since oct, 2017. \n",
    "graph = facepy.GraphAPI(token, version='2.10')"
   ]
  },
  {
   "cell_type": "markdown",
   "metadata": {},
   "source": [
    "## Getting Current Date and Time.\n",
    "\n",
    "Current date and time will stamp on filename and data to be as of date.  "
   ]
  },
  {
   "cell_type": "code",
   "execution_count": 3,
   "metadata": {
    "collapsed": true
   },
   "outputs": [],
   "source": [
    "#Current Datetime\n",
    "now = datetime.datetime.now()"
   ]
  },
  {
   "cell_type": "markdown",
   "metadata": {},
   "source": [
    "## Create Getting Reaction Information's Function. \n",
    "\n",
    "This function call to facebook to get reaction information.\n",
    "\n",
    "Input:\n",
    "    1. Object ID - The Object's ID that we need to get reaction's information.\n",
    "    2. As of Date - This date will stamp into the data and a part of filename.\n",
    "    3. Object Type - Type of Object, choose between 'post' and 'comment'.\n",
    "    \n",
    "Output:\n",
    "\n",
    "    This function will create \"JSON\" file format with \"UTF-8\" encoding. They will put on Reaction's path on Comment_Reaction's path under the Root's path of project.\n",
    "    "
   ]
  },
  {
   "cell_type": "code",
   "execution_count": 4,
   "metadata": {
    "collapsed": true
   },
   "outputs": [],
   "source": [
    "#Function get_reaction_info, get all reaction on specific object.\n",
    "def get_reaction_info(object_id, as_of_date, object_type):\n",
    "    #Set URL\n",
    "    url = object_id +'/reactions'\n",
    "    filename = ''\n",
    "    \n",
    "    #Setting variable depend on object's type.\n",
    "    if object_type == 'post':\n",
    "        object_tag_name = 'post_id'\n",
    "        object_prefix_filename = 'Reaction/REACTION_'\n",
    "    elif object_type == 'comment':\n",
    "        object_tag_name = 'comment_id'\n",
    "        object_prefix_filename = 'Comment_Reaction/COMMENT_REACTION_'  \n",
    "    else:\n",
    "        #Object_type's value don't match. put error message. \n",
    "        print('Error type.')\n",
    "        return\n",
    "        \n",
    "    #Get reaction's information.\n",
    "    reaction_info = graph.get(url, limit='1000')\n",
    "    \n",
    "    #Set variables.\n",
    "    v_check = True\n",
    "    file_seq = 1\n",
    "    \n",
    "    #Loop all data paging to get all reaction. If it don't have Next's tag under Paging's tag, No next's page of data. \n",
    "    while(v_check is not False):\n",
    "        try:\n",
    "            next_msg = reaction_info['paging']['next']\n",
    "        except KeyError:\n",
    "            v_check = False\n",
    "        \n",
    "        if len(reaction_info['data']) != 0:\n",
    "            del reaction_info['headers']\n",
    "            del reaction_info['paging']\n",
    "            reaction_info[object_tag_name] = object_id\n",
    "            reaction_info['as_of_date'] = as_of_date.isoformat()\n",
    "            \n",
    "            \n",
    "            #Set filename\n",
    "            filename = object_prefix_filename + object_id + '_' + str(file_seq) + '_' + as_of_date.strftime('%Y%m%d') +'.JSON'\n",
    "            #print(filename)\n",
    "            #Write output's files.\n",
    "            with open(filename, 'w', encoding='utf8') as reaction_output_file:\n",
    "                json.dump(reaction_info, reaction_output_file, ensure_ascii = False)\n",
    "       \n",
    "        if v_check is not False:\n",
    "            next_msg = next_msg[32:]\n",
    "            reaction_info = graph.get(next_msg)\n",
    "            file_seq = file_seq + 1\n",
    "        "
   ]
  },
  {
   "cell_type": "code",
   "execution_count": null,
   "metadata": {
    "collapsed": true
   },
   "outputs": [],
   "source": [
    "############################################################\n",
    "#Testing get_reaction_info() function.\n",
    "############################################################\n",
    "\n",
    "t_object_id = 'Put Your Oject ID'\n",
    "t_object_type = 'Put post or comment'\n",
    "get_reaction_info(t_post_id, now, t_object_type)\n",
    "\n",
    "#Let's check the files."
   ]
  },
  {
   "cell_type": "markdown",
   "metadata": {},
   "source": [
    "## Create Getting Tag's Information in Comment Function. \n",
    "\n",
    "This function call to facebook to get tag's information in comments.\n",
    "\n",
    "Input:\n",
    "    1. Comment ID - The comment's ID that we need to get tag's information.\n",
    "    2. As of Date - This date will stamp into the data and a part of filename.\n",
    "    \n",
    "Output:\n",
    "\n",
    "    This function will create \"JSON\" file format with \"UTF-8\" encoding. They will put on Comment_Tag's path under the Root's path of project.\n",
    "    "
   ]
  },
  {
   "cell_type": "code",
   "execution_count": 5,
   "metadata": {
    "collapsed": true
   },
   "outputs": [],
   "source": [
    "def get_comment_tag_info(comment_id, as_of_date):\n",
    "    #Set URL.\n",
    "    url = comment_id + '?fields=id,message_tags{id,name,type}'\n",
    "    \n",
    "    #Get tag's information.\n",
    "    tag_info = graph.get(url)\n",
    "    \n",
    "    #Set variables.\n",
    "    v_check = True\n",
    "    \n",
    "    #Check message_tags's tag.\n",
    "    try:\n",
    "        tag = tag_info['message_tags']\n",
    "        if len(tag) == 0:\n",
    "            v_check = False\n",
    "            #print('Tag == 0')\n",
    "    except KeyError:\n",
    "        v_check = False\n",
    "        #print('Do not have message_tags.')\n",
    "    \n",
    "    if v_check is not False:\n",
    "        #Delete and add tags.\n",
    "        del tag_info['headers']\n",
    "        tag_info['as_of_date'] = as_of_date.isoformat()\n",
    "    \n",
    "        #Set filename\n",
    "        filename = 'Comment_Tag/COMMENT_TAG_' + comment_id + '_' + as_of_date.strftime('%Y%m%d') +'.JSON'\n",
    "        \n",
    "        #Write output's files.\n",
    "        with open(filename, 'w', encoding='utf8') as tag_output_file:\n",
    "            json.dump(tag_info, tag_output_file, ensure_ascii = False)\n",
    "       "
   ]
  },
  {
   "cell_type": "code",
   "execution_count": null,
   "metadata": {
    "collapsed": true
   },
   "outputs": [],
   "source": [
    "############################################################\n",
    "#Testing get_comment_tag_info() function.\n",
    "############################################################\n",
    "\n",
    "t_comment_id = 'Put Your Comment ID'\n",
    "get_comment_tag_info(t_comment_id, now)\n",
    "\n",
    "#Let's check the files."
   ]
  },
  {
   "cell_type": "markdown",
   "metadata": {},
   "source": [
    "## Create Getting Comment Information's Function. \n",
    "\n",
    "This function call to facebook to get comment's information.\n",
    "\n",
    "Input:\n",
    "    1. Post ID - The post's ID that we need to get comment's information.\n",
    "    2. As of Date - This date will stamp into the data and a part of filename.\n",
    "    \n",
    "Output:\n",
    "\n",
    "    This function will create \"JSON\" file format with \"UTF-8\" encoding. They will put on Comment's path under the Root's path of project.\n",
    "    "
   ]
  },
  {
   "cell_type": "code",
   "execution_count": 6,
   "metadata": {
    "collapsed": true
   },
   "outputs": [],
   "source": [
    "#Function get_comment_info, get all comment on specific post.\n",
    "def get_comment_info(post_id, as_of_date):\n",
    "    #Set URL.\n",
    "    url = post_id +'/comments?fields=created_time, id, from, message, like_count'\n",
    "    filename = ''\n",
    "    #Get comment's information.\n",
    "    comment_info = graph.get(url)\n",
    "    \n",
    "    #Set variables.\n",
    "    v_check = True\n",
    "    file_seq = 1\n",
    "    \n",
    "    #Loop all data paging to get all posts. If it don't have Next's tag under Paging's tag, No next's page of data. \n",
    "    while(v_check is not False):\n",
    "        try:\n",
    "            next_msg = comment_info['paging']['next']\n",
    "        except KeyError:\n",
    "            v_check = False\n",
    "        \n",
    "        if len(comment_info['data']) != 0:\n",
    "            del comment_info['headers']\n",
    "            del comment_info['paging']\n",
    "            comment_info['post_id'] = post_id\n",
    "            comment_info['as_of_date'] = as_of_date.isoformat()\n",
    "            \n",
    "            #Set filename\n",
    "            filename = 'Comment/COMMENT_' + post_id + '_' + str(file_seq) + '_' + as_of_date.strftime('%Y%m%d') +'.JSON'\n",
    "            \n",
    "            #Write output's files.\n",
    "            with open(filename, 'w', encoding='utf8') as comment_output_file:\n",
    "                json.dump(comment_info, comment_output_file, ensure_ascii = False)\n",
    "           \n",
    "            #Loop to get any tag and reaction on comments.\n",
    "            comment_list = comment_info['data']\n",
    "            for comment in comment_list:\n",
    "                get_reaction_info(comment['id'], as_of_date, 'comment')\n",
    "                get_comment_tag_info(comment['id'], as_of_date)\n",
    "       \n",
    "        if v_check is not False:\n",
    "            next_msg = next_msg[32:]\n",
    "            comment_info = graph.get(next_msg)\n",
    "            file_seq = file_seq + 1\n",
    "        \n"
   ]
  },
  {
   "cell_type": "code",
   "execution_count": 9,
   "metadata": {
    "collapsed": true
   },
   "outputs": [],
   "source": [
    "############################################################\n",
    "#Testing get_comment_info() function.\n",
    "############################################################\n",
    "\n",
    "t_post_id = 'Put Your Post ID'\n",
    "get_comment_info(t_post_id, now)\n",
    "\n",
    "#Let's check the files."
   ]
  },
  {
   "cell_type": "markdown",
   "metadata": {},
   "source": [
    "## Create Getting Post Information's Function. \n",
    "\n",
    "This function call to facebook to get post's information.\n",
    "\n",
    "Input:\n",
    "    1. Page ID - The page's ID that we need to get post's information.\n",
    "    2. As of Date - This date will stamp into the data and a part of filename.\n",
    "    3. Since Date - This function will get posts that they were created after Since's Date.\n",
    "    4. Until Date - This function will get posts that they were created before Until's Date.\n",
    "    \n",
    "Output:\n",
    "\n",
    "    This function will create \"JSON\" file format with \"UTF-8\" encoding. They will put on Post's path under the Root's path of project.\n",
    "    \n",
    "Note: This function will automatic call to \"get_comment_info()\", \"get_comment_tag_info()\" and \"get_reaction_info()\" function with Post's ID that they were got.\n",
    "    "
   ]
  },
  {
   "cell_type": "code",
   "execution_count": 7,
   "metadata": {
    "collapsed": true
   },
   "outputs": [],
   "source": [
    "#Function get_post_info, get post of the page on specific time period.\n",
    "def get_post_info(page_id, as_of_date, since_date, until_date):\n",
    "    \n",
    "    #Set URL.\n",
    "    url = page_id +'/posts?fields=id,name,message,created_time,description,likes.limit(0).summary(total_count),shares,link,type'\n",
    "    \n",
    "    #Get post's information.\n",
    "    post_info = graph.get(url, since=since_date, until=until_date)\n",
    "    \n",
    "    #Set variables.\n",
    "    v_check = True\n",
    "    file_seq = 1\n",
    "    \n",
    "    #Loop all data paging to get all posts. If it don't have Next's tag under Paging's tag, No next's page of data. \n",
    "    while(v_check is not False):\n",
    "        try:\n",
    "            next_msg = post_info['paging']['next']\n",
    "        except KeyError:\n",
    "            v_check = False\n",
    "        \n",
    "        if len(post_info['data']) != 0:\n",
    "            #Delete and add tags.\n",
    "            del post_info['headers']\n",
    "            del post_info['paging']\n",
    "            post_info['page_id'] = page_id\n",
    "            post_info['as_of_date'] = as_of_date.isoformat()\n",
    "        \n",
    "            #Set filename\n",
    "            filename = 'Post/POST_' + page_id + '_' + str(file_seq) + '_' + as_of_date.strftime('%Y%m%d') +'.JSON'\n",
    "            \n",
    "            #Write output's files.\n",
    "            with open(filename, 'w', encoding='utf8') as post_output_file:\n",
    "                json.dump(post_info, post_output_file, ensure_ascii = False)\n",
    "            \n",
    "            #Call \"get_comment_info()\" and \"get_reaction_info()\" functions.\n",
    "            post_list = post_info['data']\n",
    "            for post in post_list:\n",
    "                get_comment_info(post['id'], as_of_date)\n",
    "                get_reaction_info(post['id'], as_of_date, 'post')\n",
    "            \n",
    "        if v_check is not False:\n",
    "            next_msg = next_msg[32:]\n",
    "            post_info = graph.get(next_msg)\n",
    "            file_seq = file_seq + 1\n",
    "     "
   ]
  },
  {
   "cell_type": "code",
   "execution_count": null,
   "metadata": {
    "collapsed": true
   },
   "outputs": [],
   "source": [
    "############################################################\n",
    "#Testing get_post_info() function.\n",
    "############################################################\n",
    "\n",
    "t_page_id = 'Put Your Page ID'\n",
    "\n",
    "#Format of Date should be 'YYYY-MM-DD'\n",
    "since_date = 'Put Your Since Date'\n",
    "until_date = 'Put Your Until Date'\n",
    "\n",
    "get_post_info(t_page_id, now, since_date, until_date)\n",
    "\n",
    "#Let's check the files."
   ]
  },
  {
   "cell_type": "markdown",
   "metadata": {},
   "source": [
    "## Create Getting Page Information's Function. \n",
    "\n",
    "This function call to facebook to get page's information.\n",
    "\n",
    "Input:\n",
    "    1. Page ID - The page's ID that we need to get page's information.\n",
    "    2. As of Date - This date will stamp into the data and a part of filename.\n",
    "    \n",
    "Output:\n",
    "\n",
    "    This function will create \"JSON\" file format with \"UTF-8\" encoding. They will put on Page's path under the Root's path of project.\n",
    "    "
   ]
  },
  {
   "cell_type": "code",
   "execution_count": 8,
   "metadata": {
    "collapsed": true
   },
   "outputs": [],
   "source": [
    "#Function get_page_info, get page information and write it into a file(Page's type).\n",
    "def get_page_info(page_id, as_of_date):\n",
    "    \n",
    "    #Set URL and Filename.\n",
    "    url = page_id + '?fields=id,name,fan_count'\n",
    "    filename = 'Page/PAGE_'  + page_id + '_' + as_of_date.strftime('%Y%m%d') +'.JSON'\n",
    "    \n",
    "    #Get  Information from Facebook\n",
    "    page_info = graph.get(url)\n",
    "    \n",
    "    #Delete headers's tag and add as_of_date's tag.\n",
    "    del page_info['headers']\n",
    "    page_info['as_of_date'] = as_of_date.isoformat()\n",
    "    \n",
    "    #Write output's file.\n",
    "    with open(filename, 'w', encoding='utf8') as file_output:\n",
    "        json.dump(page_info, file_output, ensure_ascii = False)\n",
    "    "
   ]
  },
  {
   "cell_type": "code",
   "execution_count": 9,
   "metadata": {
    "collapsed": true
   },
   "outputs": [],
   "source": [
    "############################################################\n",
    "#Testing get_page_info() function.\n",
    "############################################################\n",
    "\n",
    "t_page_id = 'Put Your Page ID'\n",
    "get_page_info(t_page_id,  now)\n",
    "\n",
    "#Let's check the files."
   ]
  }
 ],
 "metadata": {
  "kernelspec": {
   "display_name": "Python 3",
   "language": "python",
   "name": "python3"
  },
  "language_info": {
   "codemirror_mode": {
    "name": "ipython",
    "version": 3
   },
   "file_extension": ".py",
   "mimetype": "text/x-python",
   "name": "python",
   "nbconvert_exporter": "python",
   "pygments_lexer": "ipython3",
   "version": "3.6.1"
  }
 },
 "nbformat": 4,
 "nbformat_minor": 2
}
